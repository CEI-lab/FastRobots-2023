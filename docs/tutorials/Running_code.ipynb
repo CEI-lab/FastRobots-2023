{
 "cells": [
  {
   "cell_type": "markdown",
   "metadata": {},
   "source": [
    "# What is Jupyter Lab?"
   ]
  },
  {
   "cell_type": "markdown",
   "metadata": {},
   "source": [
    "Jupyter lab allows for interactive computation in a qualitatively new direction, providing a web-based application suitable for capturing the whole computation process: developing, documenting, and executing code, as well as communicating the results. \n",
    "\n",
    "It combines two main components:\n",
    "\n",
    "- A web application: a browser-based tool for interactive authoring of documents which combine explanatory text, mathematics, computations and their rich media output.\n",
    "\n",
    "- Notebook documents: a representation of all content visible in the web application, including inputs and outputs of the computations, explanatory text, mathematics, images, and rich media representations of objects."
   ]
  },
  {
   "cell_type": "markdown",
   "metadata": {},
   "source": [
    "A **Jupyter Notebook** is an interactive environment for writing and running code. The notebook is capable of running code in a wide range of languages. However, each notebook is associated with a single kernel.  This notebook is associated with the IPython kernel, therefore runs Python code."
   ]
  },
  {
   "cell_type": "markdown",
   "metadata": {},
   "source": [
    "## First Things First \n",
    "### Use the dark theme. :)\n",
    "In your menubar, select Settings -> JupyterLab Theme -> JupyterLab Dark.\n",
    "\n",
    "If you absolutely do not want to use the dark theme, you may possibly skip this step, I guess."
   ]
  },
  {
   "cell_type": "markdown",
   "metadata": {},
   "source": [
    "## Code cells allow you to enter and run code"
   ]
  },
  {
   "cell_type": "markdown",
   "metadata": {},
   "source": [
    "Run a code cell using `Shift-Enter` or pressing the <button class='btn btn-default btn-xs'><i class=\"icon-step-forward fa fa-play\"></i></button> button in the toolbar above:"
   ]
  },
  {
   "cell_type": "code",
   "execution_count": null,
   "metadata": {
    "collapsed": false,
    "jupyter": {
     "outputs_hidden": false
    }
   },
   "outputs": [],
   "source": [
    "a = 10"
   ]
  },
  {
   "cell_type": "code",
   "execution_count": null,
   "metadata": {
    "collapsed": false,
    "jupyter": {
     "outputs_hidden": false
    }
   },
   "outputs": [],
   "source": [
    "print(a)"
   ]
  },
  {
   "cell_type": "markdown",
   "metadata": {},
   "source": [
    "There are two other keyboard shortcuts for running code:\n",
    "\n",
    "* `Alt-Enter` runs the current cell and inserts a new one below.\n",
    "* `Ctrl-Enter` runs the current cell and enters command mode.\n",
    "\n",
    "<hr>"
   ]
  },
  {
   "cell_type": "markdown",
   "metadata": {},
   "source": [
    "## Tab Completion\n",
    "Jupyter notebooks support code completion by pressing the TAB key. <br>\n",
    "In the below code cell, type \"pr\" and press TAB for a demo."
   ]
  },
  {
   "cell_type": "code",
   "execution_count": null,
   "metadata": {},
   "outputs": [],
   "source": []
  },
  {
   "cell_type": "markdown",
   "metadata": {},
   "source": [
    "<hr>\n",
    "\n",
    "## Managing the Kernel"
   ]
  },
  {
   "cell_type": "markdown",
   "metadata": {},
   "source": [
    "- For each notebook, the code is run in a separate process called the **kernel**.\n",
    "- The kernel maintains the state of a notebook's computations.\n",
    "- The kernel version is indicated on the top right corner of the notebook (as well as in the status bar at the bottom). \n",
    ">Make sure it is set to \"Python 3\".\n",
    "- The kernel can be **interrupted** or **restarted**. "
   ]
  },
  {
   "cell_type": "markdown",
   "metadata": {},
   "source": [
    "### Interrupt a Kernel\n",
    "- Try running the following code cell containing an infinite loop.\n",
    "- While the code is running, the cell number (to the left of the code cell) will be displayed as \\[ * \\].\n",
    "   > The cell number on the left shows the order in which the code cell was executed in the kernel.\n",
    "- To stop the cell from executing code, hit the <button class='btn btn-default btn-xs'><i class='icon-stop fa fa-stop'></i></button> button in the toolbar above.\n",
    "  > This essentially interrupts the kernel."
   ]
  },
  {
   "cell_type": "code",
   "execution_count": null,
   "metadata": {},
   "outputs": [],
   "source": [
    "import time\n",
    "\n",
    "# This code will run until the kernel is interrupted\n",
    "while True:\n",
    "    time.sleep(3)"
   ]
  },
  {
   "cell_type": "markdown",
   "metadata": {},
   "source": [
    "### Shutdown a Kernel\n",
    "- Click on the <img style=\"display: inline;\" src=\"https://raw.githubusercontent.com/jupyterlab/jupyterlab/fb111de14646affddc972578abf3a5a3766a383d/packages/ui-components/style/icons/sidebar/running.svg\"> button (\"*Running Terminals and Kernels*\") in the left pane. \n",
    "   > It should list the kernel sessions currently running.\n",
    "- You can shutdown a kernel by clicking on the <img style=\"display: inline;\" src=\"https://raw.githubusercontent.com/jupyterlab/jupyterlab/fb111de14646affddc972578abf3a5a3766a383d/packages/ui-components/style/icons/toolbar/close.svg\"> button (\"*Shut Down*\"). \n",
    "- You cannot run any code in the associated notebook once the kernel is shutdown.\n",
    "\n",
    "### Restart a Kernel\n",
    "- The kernel maintains the state of a notebook's computations. \n",
    "- When a notebook does not have a kernel associated to it, the top right corner of the notebook (and the status bar) should display \"*No Kernel*\".\n",
    "- You can restart the kernel for a notebook by clicking on the <button class='btn btn-default btn-xs'><i class='fa fa-repeat icon-repeat'></i></button> in the toolbar above.\n",
    "\n",
    "<hr>"
   ]
  },
  {
   "cell_type": "markdown",
   "metadata": {},
   "source": [
    "## Cell Output"
   ]
  },
  {
   "cell_type": "markdown",
   "metadata": {},
   "source": [
    "### Output is asynchronous"
   ]
  },
  {
   "cell_type": "markdown",
   "metadata": {},
   "source": [
    "All output is displayed asynchronously as it is generated in the Kernel. If you execute the next cell, you will see the output one piece at a time, not all at the end."
   ]
  },
  {
   "cell_type": "code",
   "execution_count": null,
   "metadata": {
    "collapsed": false,
    "jupyter": {
     "outputs_hidden": false
    }
   },
   "outputs": [],
   "source": [
    "import time, sys\n",
    "for i in range(8):\n",
    "    print(i)\n",
    "    time.sleep(0.5)"
   ]
  },
  {
   "cell_type": "markdown",
   "metadata": {},
   "source": [
    "### Large outputs"
   ]
  },
  {
   "cell_type": "markdown",
   "metadata": {},
   "source": [
    "To better handle large outputs, the output area can be collapsed. Run the following cell and then single- or double- click on the active area to the left of the output:"
   ]
  },
  {
   "cell_type": "code",
   "execution_count": null,
   "metadata": {
    "collapsed": false,
    "jupyter": {
     "outputs_hidden": false
    }
   },
   "outputs": [],
   "source": [
    "for i in range(50):\n",
    "    print(i)"
   ]
  },
  {
   "cell_type": "markdown",
   "metadata": {},
   "source": [
    "You can write any piece of python code in a cell. In the cell below, we are defining a function and subsequently calling it."
   ]
  },
  {
   "cell_type": "code",
   "execution_count": null,
   "metadata": {},
   "outputs": [],
   "source": [
    "def pretty_print(x):\n",
    "    print (\"The value of x is \", x)\n",
    "\n",
    "a = 1\n",
    "b = 1.2\n",
    "c = a\n",
    "pretty_print(a)\n",
    "pretty_print(b)\n",
    "pretty_print(c)"
   ]
  },
  {
   "cell_type": "code",
   "execution_count": null,
   "metadata": {},
   "outputs": [],
   "source": [
    "# If the cell above was run, then the function pretty_print() is defined. \n",
    "# You can now call the function in any code cell within the notebook (include this one). Try it!"
   ]
  },
  {
   "cell_type": "markdown",
   "metadata": {},
   "source": [
    "### Clearing outputs\n",
    "- You can clear the output of a cell by right-clicking on the cell and selecting \"*Clear Outputs*\".\n",
    "- You can clear all the outputs of the entire notebook by selecting \"*Clear All Outputs*\".\n",
    "\n",
    "<hr>"
   ]
  },
  {
   "cell_type": "markdown",
   "metadata": {},
   "source": [
    "# MarkDown Cell\n",
    "- This is a **MarkDown** cell. \n",
    "- The **cell type** can be changed from the drop-down button in the toolbar.\n",
    "- Double-click on this cell to edit its contents.\n",
    "- Run the cell to render it."
   ]
  },
  {
   "cell_type": "markdown",
   "metadata": {},
   "source": [
    "# Saving a notebook\n",
    "- After making changes, you can save the notebook by clicking on the <img style=\"display: inline;\" src=\"https://raw.githubusercontent.com/jupyterlab/jupyterlab/fb111de14646affddc972578abf3a5a3766a383d/packages/ui-components/style/icons/toolbar/save.svg\"> icon (\"*Save the notebook contents and create checkpoint*\")  in the toolbar.\n",
    "- This will save all the code content along with their outputs. <br>\n",
    "\n",
    "## Make sure you save your notebook before shutting down the jupyter server"
   ]
  },
  {
   "cell_type": "markdown",
   "metadata": {},
   "source": [
    "## References: \n",
    "1. [Running Code in Jupyter](https://github.com/jupyter/notebook/blob/master/docs/source/examples/Notebook/Running%20Code.ipynb)"
   ]
  }
 ],
 "metadata": {
  "kernelspec": {
   "display_name": "Python 3",
   "language": "python",
   "name": "python3"
  },
  "language_info": {
   "codemirror_mode": {
    "name": "ipython",
    "version": 3
   },
   "file_extension": ".py",
   "mimetype": "text/x-python",
   "name": "python",
   "nbconvert_exporter": "python",
   "pygments_lexer": "ipython3",
   "version": "3.6.3"
  }
 },
 "nbformat": 4,
 "nbformat_minor": 4
}
