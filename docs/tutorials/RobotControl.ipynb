{
 "cells": [
  {
   "cell_type": "markdown",
   "metadata": {},
   "source": [
    "### This notebook contains skeleton code, and discusses some ideas on how to approach the problem of designing a robot control architecuture using BLE.\n",
    "\n",
    "# A Robot Control Class\n",
    "Classes provide a means of bundling data and functionality together. It helps organize your thoughts and your code. \n",
    "\n",
    "Below is the skeleton of one possible class structure to deal with robot communication. You do not have to use the exact same structure, it merely serves as a reference."
   ]
  },
  {
   "cell_type": "code",
   "execution_count": null,
   "metadata": {},
   "outputs": [],
   "source": [
    "class RobotControl():\n",
    "    # Initialize Function\n",
    "    def __init__(self, ble):\n",
    "        self.ble = ble\n",
    "        \n",
    "        # A variable to store the latest sensor value\n",
    "        self.latest_tof_front_reading = None\n",
    "        \n",
    "        # A list to store the history of all the sensor values\n",
    "        # Each item in the list is a tuple (value, time)\n",
    "        # WARNING: The list could grow really fast; you need to deal with this accordingly.\n",
    "        self.tof_readings = []\n",
    "        \n",
    "        # A variable to store the latest imu reading\n",
    "        self.latest_imu_reading = None\n",
    "        \n",
    "        # Activate notifications (if required)\n",
    "        self.setup_notify()\n",
    "    \n",
    "    # A function to activate various notifications (if required)\n",
    "    def setup_notify(self):\n",
    "        # Code to setup various notify events\n",
    "        # Ex:\n",
    "        # ble.start_notify(ble.uuid['RX_TOF2'], self.tof_callback_handler)\n",
    "        # ble.start_notify(ble.uuid['RX_FANCY_SENSOR'], self.fancy_sensor_callback_handler)\n",
    "    \n",
    "    # An example function callback handler for storing the history of the tof sensor\n",
    "    # Your callback handlers should perform minimal processing!\n",
    "    # Do not add a receive_* function inside the callback handler, it defeats the purpose of BLE notify\n",
    "    def tof_callback_handler(self, uuid, byte_array):\n",
    "        # Append a tuple (value, time) to a list\n",
    "        self.tof_readings.append( ( self.ble.bytearray_to_float(byte_array), time.time() ) )\n",
    "    \n",
    "    # An example function to fetch the front TOF sensor reading\n",
    "    # Here we assume RX_TOF1 is a valid UUID defined in connection.yaml and\n",
    "    # in the Arduino code as well\n",
    "    def get_front_tof(self):\n",
    "        self.latest_tof_front_reading = self.ble.receive_float(self.ble.uuid['RX_TOF1'])\n",
    "        pass\n",
    "    \n",
    "    # An example function to fetch the IMU readings as a string\n",
    "    # Here we assume RX_IMU is a valid UUID defined in connection.yaml and\n",
    "    # in the Arduino code as well\n",
    "    def get_imu(self):\n",
    "        self.latest_imu_reading = self.ble.receive_string(self.ble.uuid['RX_IMU'])\n",
    "        pass\n",
    "    \n",
    "    # A function to instruct the robot to move forward\n",
    "    def move_forward(self, speed):\n",
    "        # Code to move forward\n",
    "        # Ex: \n",
    "        # Here we assume the command is defined in cmd_types.py and \n",
    "        # the Artemis is programmed to handle it accordingly\n",
    "        # ble.send_command(CMD.MOVE_FORWARD, speed)\n",
    "        pass\n",
    "    \n",
    "    # A function to stop robot motion\n",
    "    def stop(self):\n",
    "        # Code to stop robot motion\n",
    "        pass"
   ]
  },
  {
   "cell_type": "markdown",
   "metadata": {},
   "source": [
    "### You can now use such a class to control your robot"
   ]
  },
  {
   "cell_type": "code",
   "execution_count": null,
   "metadata": {},
   "outputs": [],
   "source": [
    "# Get ArtemisBLEController object\n",
    "ble = get_ble_controller()\n",
    "\n",
    "# Connect to the Artemis Device\n",
    "ble.connect()\n",
    "\n",
    "# Instantiate RobotControl class\n",
    "rc = RobotControl(ble)\n",
    "\n",
    "### Move robot forward for 3 secs and get sensor readings ###\n",
    "rc.get_imu()\n",
    "\n",
    "rc.move_forward(50)\n",
    "log.info(\"IMU Reading: \" + str(rc.latest_imu_reading))\n",
    "await time.sleep(3)\n",
    "rc.stop()\n",
    "\n",
    "rc.get_imu()\n",
    "log.info(\"IMU Reading: \" + str(rc.latest_imu_reading))"
   ]
  },
  {
   "cell_type": "markdown",
   "metadata": {},
   "source": [
    "<hr>\n",
    "\n",
    "### There are two possible approaches to reading values from the Artemis board\n",
    "**Approach 1:** Read values explicitly <br>\n",
    "**Approach 2:** Notifications\n",
    "\n",
    "#### You can use a combination of both i.e read some values explicitly and activate notifications for others."
   ]
  },
  {
   "cell_type": "markdown",
   "metadata": {},
   "source": [
    "## Approach 1: Read values explicitly\n",
    "Below is a possible structure to run your robot commands in a loop and explicitly read the sensor values as required. \n",
    "\n",
    "You have more control of your code in this approach. However, the read functions could perform slower in comparison to notify events."
   ]
  },
  {
   "cell_type": "code",
   "execution_count": null,
   "metadata": {},
   "outputs": [],
   "source": [
    "# Add this to the top most cell containing the imports\n",
    "import asyncio\n",
    "\n",
    "\n",
    "while True:\n",
    "    ###### Your code ######\n",
    "    # Ex: Move the robot for 1 sec\n",
    "    # rc.move_forward(50)\n",
    "    # await asyncio.sleep(1)\n",
    "    # rc.stop()\n",
    "    \n",
    "    ###### Read values ######\n",
    "    # rc.get_imu()\n",
    "    # rc.get_front_tof()"
   ]
  },
  {
   "cell_type": "markdown",
   "metadata": {},
   "source": [
    "## Approach 2: Notifications\n",
    "Below is a possible structure to run your robot command in a loop and utilize the notify events. \n",
    "\n",
    "You may have to tweak the sleep time based on how you program your arduino, system OS, system specs, system load and, the number and frequency of notify events. \n",
    "\n",
    "However, you **don't have to worry too much** about this if you keep your notify callback functions light. It becomes an issue only when you have a large number of notify events within a (very) short duration of time."
   ]
  },
  {
   "cell_type": "code",
   "execution_count": null,
   "metadata": {},
   "outputs": [],
   "source": [
    "while True:\n",
    "    ###### Your code ######\n",
    "    # Ex: Move the robot for 1 sec\n",
    "    # rc.move_forward(50)\n",
    "    # await asyncio.sleep(1)\n",
    "    # rc.stop()\n",
    "    \n",
    "    # Process notify events\n",
    "    # Sleep the current execution so that the notify callback functions can run\n",
    "    # The sleep time can be much smaller, but it depends on the OS, hardware specs, number of notify events and the system load\n",
    "    await asyncio.sleep(0.1)"
   ]
  }
 ],
 "metadata": {
  "kernelspec": {
   "display_name": "Python 3",
   "language": "python",
   "name": "python3"
  },
  "language_info": {
   "codemirror_mode": {
    "name": "ipython",
    "version": 3
   },
   "file_extension": ".py",
   "mimetype": "text/x-python",
   "name": "python",
   "nbconvert_exporter": "python",
   "pygments_lexer": "ipython3",
   "version": "3.6.3"
  }
 },
 "nbformat": 4,
 "nbformat_minor": 4
}
